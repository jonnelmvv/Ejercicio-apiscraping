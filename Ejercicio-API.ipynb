{
 "cells": [
  {
   "cell_type": "markdown",
   "id": "1104090e-54e6-4b90-b950-4e0f29c7f31e",
   "metadata": {
    "tags": []
   },
   "source": [
    "## **PokéAPI**\n",
    "PokéAPI es una API con propósitos educativos. Permite consultar datos sobre los *Pokémon* que existen en la saga de videojuegos *Pokémon*.\n",
    "Dentro del videojuego, existen un conjunto de objetos, habilidades, *Pokémon* y sus evoluciones, localizaciones y entre otros datos los cuales se podrán consultar. \n",
    "Para ello, si desconoce del juego deberá consultar más información en https://bulbapedia.bulbagarden.net una página web de enciclopedia de *Pokémon*.\n",
    "\n",
    "Documentación: https://pokeapi.co/docs/v2#info"
   ]
  },
  {
   "cell_type": "code",
   "execution_count": null,
   "id": "71f310bb-5aa6-4660-bc58-442598029aff",
   "metadata": {},
   "outputs": [],
   "source": [
    "#Imports\n",
    "import requests\n"
   ]
  },
  {
   "cell_type": "markdown",
   "id": "c1498897-6988-4c51-9845-33bb1ddb26d7",
   "metadata": {},
   "source": [
    "**Pregunta 1:** Los *Pokémon* son monstruos que pueden ser de diferentes tipos dependiendo de su hábitat. Muestra todos los tipos *Pokémon* existentes "
   ]
  },
  {
   "cell_type": "code",
   "execution_count": null,
   "id": "b26d742c-cf49-4f18-9ba6-2554f3b9eae7",
   "metadata": {},
   "outputs": [],
   "source": [
    "endpoint = 'https://pokeapi.co/api/v2/type/'\n",
    "\n",
    "response = requests.get(endpoint)\n",
    "\n",
    "types = response.json()\n",
    "\n",
    "for pkmn_type in types['results']: print(pkmn_type['name'])"
   ]
  },
  {
   "cell_type": "markdown",
   "id": "771469c5-87c7-4311-89c0-c505d802f774",
   "metadata": {},
   "source": [
    "**Pregunta 2:** Los *Pokémon* nacen con ciertas habilidades que pueden utilizar en combate. También pueden aprender nuevas habilidades a medida que van subiendo de nivel o utilizando ciertos objetos.\n",
    "\n",
    "Muestra los nombres de las 30 primeras habilidades que podrían tener los *Pokémon*"
   ]
  },
  {
   "cell_type": "code",
   "execution_count": null,
   "id": "fa64082e-c85d-489d-b609-059188a1f59f",
   "metadata": {},
   "outputs": [],
   "source": [
    "# Cuando no se especifica ningún id o nombre en el endpoint, este mostrará una lista de los primeros 20 endpoint que se halla especificado\n",
    "# En este caso se ha pedido las primeras 30 habilidades\n",
    "endpoint = 'https://pokeapi.co/api/v2/ability/'\n",
    "\n",
    "payload = {'offset': 0, 'limit': 30}\n",
    "\n",
    "response = requests.get(endpoint, params = payload)\n",
    "\n",
    "data = response.json()\n",
    "\n",
    "for ability in data['results']: print(ability['name'])\n"
   ]
  },
  {
   "cell_type": "markdown",
   "id": "4a223c64-1431-4f59-9bad-1899248ce2a1",
   "metadata": {},
   "source": [
    "**Pregunta 3:**  Los *Pokémon* pueden evolucionar de diferentes formas, una de ellas es mediante intercambio de *Pokémon* con otros jugadores. \n",
    "\n",
    "Averigua y muestra todas las formas de evolución y obtén todas las **especies *Pokémon*** que evolucionan mediante el método de intercambio."
   ]
  },
  {
   "cell_type": "code",
   "execution_count": null,
   "id": "5fec5224-7adb-4b10-aab6-8804bcf15d51",
   "metadata": {},
   "outputs": [],
   "source": [
    "# Primer apartado\n",
    "print(\"-------------PRIMER APARTADO-------------\")\n",
    "\n",
    "endpoint = 'https://pokeapi.co/api/v2/evolution-trigger/'\n",
    "\n",
    "response = requests.get(endpoint)\n",
    "\n",
    "data = response.json()\n",
    "\n",
    "for evolution_trigger in data['results']:  print(evolution_trigger['name'])\n",
    "\n",
    "# Segundo apartado\n",
    "print(\"-------------SEGUNDO APARTADO-------------\")\n",
    "\n",
    "endpoint = 'https://pokeapi.co/api/v2/evolution-trigger/trade'\n",
    "\n",
    "response = requests.get(endpoint)\n",
    "\n",
    "data = response.json()\n",
    "\n",
    "for pokemon in data['pokemon_species']: print(pokemon['name'])"
   ]
  },
  {
   "cell_type": "markdown",
   "id": "b1b00e99-514e-48c2-bbae-1216894e144d",
   "metadata": {},
   "source": [
    "**Pregunta 4:** Cada videojuego que sacan de *Pokémon*, agregan una nueva generación y, a su vez, nuevos *Pokémon*. \n",
    "\n",
    "Muestra el número de *Pokémon* implementados en la cuarta generación."
   ]
  },
  {
   "cell_type": "code",
   "execution_count": null,
   "id": "55991983-7ac2-458b-a1f2-a322a762cc0c",
   "metadata": {},
   "outputs": [],
   "source": [
    "endpoint = 'https://pokeapi.co/api/v2/generation/4'\n",
    "\n",
    "response = requests.get(endpoint)\n",
    "\n",
    "total_pokemon = response.json()\n",
    "\n",
    "print(\"Número de Pokémon implementados en la cuarta generación: \", len(total_pokemon['pokemon_species']))"
   ]
  },
  {
   "cell_type": "markdown",
   "id": "9d636303-0743-4556-a4c9-056be7d997b3",
   "metadata": {},
   "source": [
    "**Pregunta 5:** Consigue los nombres de los *Pokémon* pertenecientes a la primera generación sin utilizar el endpoint del ejercicio anterior."
   ]
  },
  {
   "cell_type": "code",
   "execution_count": null,
   "id": "71a824c7-5318-4756-999a-f9444095b5ae",
   "metadata": {},
   "outputs": [],
   "source": [
    "endpoint = \"https://pokeapi.co/api/v2/pokemon-species/\"\n",
    "\n",
    "response = requests.get(endpoint)\n",
    "\n",
    "total_pokemon = response.json()\n",
    "\n",
    "payload = {'limit' : total_pokemon['count']}\n",
    "\n",
    "response = requests.get(endpoint, params = payload)\n",
    "\n",
    "total_pokemon = response.json()\n",
    "\n",
    "for pokemon in total_pokemon['results']:\n",
    "    \n",
    "    endpoint = pokemon['url']\n",
    "    response = requests.get(endpoint)\n",
    "    pokemon_ivgen = response.json()\n",
    "    \n",
    "    if pokemon_ivgen['generation']['name'] == 'generation-i': print(pokemon['name'])\n",
    "    "
   ]
  }
 ],
 "metadata": {
  "kernelspec": {
   "display_name": "Python 3 (ipykernel)",
   "language": "python",
   "name": "python3"
  },
  "language_info": {
   "codemirror_mode": {
    "name": "ipython",
    "version": 3
   },
   "file_extension": ".py",
   "mimetype": "text/x-python",
   "name": "python",
   "nbconvert_exporter": "python",
   "pygments_lexer": "ipython3",
   "version": "3.9.7"
  }
 },
 "nbformat": 4,
 "nbformat_minor": 5
}
