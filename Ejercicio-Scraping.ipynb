{
 "cells": [
  {
   "cell_type": "markdown",
   "id": "4fe11ce8-25d1-43dd-a6ef-b58e670cfeb6",
   "metadata": {},
   "source": [
    "## **OP.GG**\n",
    "op.gg es una página web para que los jugadores de *League of Legends* puedan consultar las partidas que han realizado a lo largo de su cuenta. \n",
    "\n",
    "No sólo proporciona información sobre tu cuenta sino información sobre otros jugadores, *builds* para jugar campeones específicos, etc.\n",
    "\n",
    "Página web: https://euw.op.gg/\n"
   ]
  },
  {
   "cell_type": "markdown",
   "id": "bc228ac9-0856-4690-8f17-41ba43d1b0e9",
   "metadata": {},
   "source": [
    "**Pregunta 1:** En la página op.gg puedes consultar información sobre los jugadores. Busca cualquier jugador y consigue los campeones que más ha utilizado en las últimas partidas."
   ]
  },
  {
   "cell_type": "code",
   "execution_count": 93,
   "id": "a857228a-0e5c-4190-a80b-0c877677c124",
   "metadata": {},
   "outputs": [
    {
     "name": "stdout",
     "output_type": "stream",
     "text": [
      "Zilean\n",
      "Morgana\n",
      "Galio\n",
      "Anivia\n",
      "Rakan\n",
      "Anivia\n"
     ]
    }
   ],
   "source": [
    "import requests\n",
    "from bs4 import BeautifulSoup\n",
    "url = 'https://euw.op.gg/summoner/userName=Busca%20Pleitos'\n",
    "headers = { 'User-Agent' : 'a' }\n",
    "response = requests.get(url, headers = headers)\n",
    "\n",
    "soup = BeautifulSoup(response.content, 'html.parser')\n",
    "champions = soup.find_all(class_='ChampionName')\n",
    "for champion in champions:\n",
    "    print(champion.text.strip())"
   ]
  },
  {
   "cell_type": "markdown",
   "id": "967cda51-6c35-43b7-a04f-67b32ea09e5a",
   "metadata": {},
   "source": [
    "**Pregunta 2:** Usando el mismo jugador con la que has trabajado en el ejercicio anterior, muestra datos relevantes de su última partida como el tipo de partida, cuándo se disputó la partida, si ha ganado y cuánto tiempo duró la partida."
   ]
  },
  {
   "cell_type": "code",
   "execution_count": 35,
   "id": "52cbd76a-74b8-48c5-9e07-86c23f95d03c",
   "metadata": {},
   "outputs": [
    {
     "name": "stdout",
     "output_type": "stream",
     "text": [
      "Ultimates\n",
      "\t\t\t\t\n",
      "2021-11-27 08:39:53\n",
      "\n",
      "\n",
      "\t\t\t\t\t\t\t\t\t\t\tDefeat\t\t\t\t\t\t\t\t\t\n",
      "29m 6s\n"
     ]
    }
   ],
   "source": [
    "game = soup.find_all(class_='GameStats')\n",
    "for champion in champions:\n",
    "    print(champion.text.strip())"
   ]
  },
  {
   "cell_type": "markdown",
   "id": "c6c906fc-43a9-4713-bdc6-73541080bde9",
   "metadata": {},
   "source": [
    "**Pregunta 3:** Muestra el nombre de los objetos que ha comprado en la partida."
   ]
  },
  {
   "cell_type": "code",
   "execution_count": 82,
   "id": "2b782ac3-bdd6-42ac-a787-2d859be920a9",
   "metadata": {},
   "outputs": [
    {
     "name": "stdout",
     "output_type": "stream",
     "text": [
      "Shard of True Ice\n",
      "Zhonya's Hourglass\n",
      "Morellonomicon\n",
      "Oracle Lens\n",
      "Sorcerer's Shoes\n",
      "Liandry's Anguish\n",
      "Blasting Wand\n"
     ]
    }
   ],
   "source": [
    "item_list = soup.find_all(class_='ItemList')\n",
    "for items in item_list:\n",
    "    item = items.find_all(class_='Item')\n",
    "    for it in item:\n",
    "        print(it.img['alt'])"
   ]
  },
  {
   "cell_type": "markdown",
   "id": "5087e2aa-3b19-44cf-a256-35d965ee9076",
   "metadata": {},
   "source": [
    "**Pregunta 4:** Muestra el nombre de los objetos que ha comprado en la partida.:** Muestra el campeón que ha utilizado en su última y el *KDA*"
   ]
  },
  {
   "cell_type": "code",
   "execution_count": 94,
   "id": "8b78665b-dd53-48ad-a950-c83b36931951",
   "metadata": {},
   "outputs": [
    {
     "name": "stdout",
     "output_type": "stream",
     "text": [
      "Anivia\n",
      "1.43:1\n"
     ]
    }
   ],
   "source": [
    "info_list = soup.find_all(class_='GameSettingInfo')\n",
    "for infos in info_list:\n",
    "    info = infos.find_all(class_='ChampionImage')\n",
    "    for inf in info:\n",
    "        print(inf.img['alt'])\n",
    "        \n",
    "kda = soup.find_all(class_='KDARatio')\n",
    "for score in kda:\n",
    "    try:\n",
    "        print(score.span.text)\n",
    "        break\n",
    "    except AttributeError :\n",
    "        pass"
   ]
  },
  {
   "cell_type": "markdown",
   "id": "87a5e669-78fc-4b20-9f3a-6e6110a6cb13",
   "metadata": {},
   "source": [
    "**Pregunta 5:** Muestra los nombres de los jugadores que estuvieron en la última partida"
   ]
  },
  {
   "cell_type": "code",
   "execution_count": 95,
   "id": "6cf3eec9-4cec-4a05-833a-a342f3143fad",
   "metadata": {},
   "outputs": [
    {
     "name": "stdout",
     "output_type": "stream",
     "text": [
      "CuongManh\n",
      "Joshy3243\n",
      "baminator\n",
      "Slych\n",
      "Rizmo\n",
      "Busca Pleitos\n",
      "Daidalaras\n",
      "seansch\n",
      "Zerooooooo\n",
      "qoaL\n"
     ]
    }
   ],
   "source": [
    "info_list = soup.find_all(class_='FollowPlayers Names')\n",
    "for infos in info_list:\n",
    "    info = infos.find_all(class_='SummonerName')\n",
    "    for inf in info:\n",
    "        print(inf.a.text)"
   ]
  }
 ],
 "metadata": {
  "kernelspec": {
   "display_name": "Python 3 (ipykernel)",
   "language": "python",
   "name": "python3"
  },
  "language_info": {
   "codemirror_mode": {
    "name": "ipython",
    "version": 3
   },
   "file_extension": ".py",
   "mimetype": "text/x-python",
   "name": "python",
   "nbconvert_exporter": "python",
   "pygments_lexer": "ipython3",
   "version": "3.9.7"
  }
 },
 "nbformat": 4,
 "nbformat_minor": 5
}
